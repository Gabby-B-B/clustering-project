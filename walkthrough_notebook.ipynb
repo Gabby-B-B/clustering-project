{
 "cells": [
  {
   "cell_type": "code",
   "execution_count": 1,
   "metadata": {},
   "outputs": [
    {
     "name": "stdout",
     "output_type": "stream",
     "text": [
      "<class 'pandas.core.frame.DataFrame'>\n",
      "RangeIndex: 20394 entries, 0 to 20393\n",
      "Data columns (total 78 columns):\n",
      " #   Column                        Non-Null Count  Dtype  \n",
      "---  ------                        --------------  -----  \n",
      " 0   id                            20394 non-null  int64  \n",
      " 1   parcelid                      20394 non-null  int64  \n",
      " 2   airconditioningtypeid         6512 non-null   float64\n",
      " 3   architecturalstyletypeid      49 non-null     float64\n",
      " 4   basementsqft                  11 non-null     float64\n",
      " 5   bathroomcnt                   20394 non-null  float64\n",
      " 6   bedroomcnt                    20394 non-null  float64\n",
      " 7   buildingclasstypeid           0 non-null      object \n",
      " 8   buildingqualitytypeid         12641 non-null  float64\n",
      " 9   calculatedbathnbr             20310 non-null  float64\n",
      " 10  decktypeid                    175 non-null    float64\n",
      " 11  finishedfloor1squarefeet      1673 non-null   float64\n",
      " 12  calculatedfinishedsquarefeet  20341 non-null  float64\n",
      " 13  finishedsquarefeet12          20282 non-null  float64\n",
      " 14  finishedsquarefeet13          12 non-null     float64\n",
      " 15  finishedsquarefeet15          3 non-null      float64\n",
      " 16  finishedsquarefeet50          1673 non-null   float64\n",
      " 17  finishedsquarefeet6           44 non-null     float64\n",
      " 18  fips                          20394 non-null  float64\n",
      " 19  fireplacecnt                  2378 non-null   float64\n",
      " 20  fullbathcnt                   20310 non-null  float64\n",
      " 21  garagecarcnt                  7222 non-null   float64\n",
      " 22  garagetotalsqft               7222 non-null   float64\n",
      " 23  hashottuborspa                480 non-null    float64\n",
      " 24  heatingorsystemtypeid         13096 non-null  float64\n",
      " 25  latitude                      20394 non-null  float64\n",
      " 26  longitude                     20394 non-null  float64\n",
      " 27  lotsizesquarefeet             18131 non-null  float64\n",
      " 28  poolcnt                       4553 non-null   float64\n",
      " 29  poolsizesum                   269 non-null    float64\n",
      " 30  pooltypeid10                  138 non-null    float64\n",
      " 31  pooltypeid2                   342 non-null    float64\n",
      " 32  pooltypeid7                   4209 non-null   float64\n",
      " 33  propertycountylandusecode     20394 non-null  object \n",
      " 34  propertylandusetypeid         20394 non-null  float64\n",
      " 35  propertyzoningdesc            12781 non-null  object \n",
      " 36  rawcensustractandblock        20394 non-null  float64\n",
      " 37  regionidcity                  20028 non-null  float64\n",
      " 38  regionidcounty                20394 non-null  float64\n",
      " 39  regionidneighborhood          8035 non-null   float64\n",
      " 40  regionidzip                   20380 non-null  float64\n",
      " 41  roomcnt                       20394 non-null  float64\n",
      " 42  storytypeid                   11 non-null     float64\n",
      " 43  threequarterbathnbr           2931 non-null   float64\n",
      " 44  typeconstructiontypeid        51 non-null     float64\n",
      " 45  unitcnt                       12752 non-null  float64\n",
      " 46  yardbuildingsqft17            692 non-null    float64\n",
      " 47  yardbuildingsqft26            23 non-null     float64\n",
      " 48  yearbuilt                     20325 non-null  float64\n",
      " 49  numberofstories               4894 non-null   float64\n",
      " 50  fireplaceflag                 43 non-null     float64\n",
      " 51  structuretaxvaluedollarcnt    20361 non-null  float64\n",
      " 52  taxvaluedollarcnt             20394 non-null  float64\n",
      " 53  assessmentyear                20394 non-null  float64\n",
      " 54  landtaxvaluedollarcnt         20394 non-null  float64\n",
      " 55  taxamount                     20393 non-null  float64\n",
      " 56  taxdelinquencyflag            666 non-null    object \n",
      " 57  taxdelinquencyyear            666 non-null    float64\n",
      " 58  censustractandblock           20316 non-null  float64\n",
      " 59  airconditioningtypeid         6512 non-null   float64\n",
      " 60  airconditioningdesc           6512 non-null   object \n",
      " 61  architecturalstyletypeid      49 non-null     float64\n",
      " 62  architecturalstyledesc        49 non-null     object \n",
      " 63  heatingorsystemtypeid         13096 non-null  float64\n",
      " 64  heatingorsystemdesc           13096 non-null  object \n",
      " 65  propertylandusetypeid         20394 non-null  int64  \n",
      " 66  propertylandusedesc           20394 non-null  object \n",
      " 67  id                            20394 non-null  int64  \n",
      " 68  parcelid                      20394 non-null  int64  \n",
      " 69  logerror                      20394 non-null  float64\n",
      " 70  transactiondate               20394 non-null  object \n",
      " 71  buildingclasstypeid           0 non-null      object \n",
      " 72  buildingclassdesc             0 non-null      object \n",
      " 73  storytypeid                   11 non-null     float64\n",
      " 74  storydesc                     11 non-null     object \n",
      " 75  typeconstructiontypeid        51 non-null     float64\n",
      " 76  typeconstructiondesc          51 non-null     object \n",
      " 77  parcelid                      20394 non-null  int64  \n",
      "dtypes: float64(59), int64(6), object(13)\n",
      "memory usage: 12.1+ MB\n",
      "<class 'pandas.core.frame.DataFrame'>\n",
      "Int64Index: 20394 entries, 0 to 20393\n",
      "Data columns (total 18 columns):\n",
      " #   Column                        Non-Null Count  Dtype  \n",
      "---  ------                        --------------  -----  \n",
      " 0   id                            20394 non-null  int64  \n",
      " 1   parcelid                      20394 non-null  int64  \n",
      " 2   bathroomcnt                   20394 non-null  float64\n",
      " 3   bedroomcnt                    20394 non-null  float64\n",
      " 4   calculatedfinishedsquarefeet  20341 non-null  float64\n",
      " 5   finishedsquarefeet12          20282 non-null  float64\n",
      " 6   fullbathcnt                   20310 non-null  float64\n",
      " 7   lotsizesquarefeet             18131 non-null  float64\n",
      " 8   rawcensustractandblock        20394 non-null  float64\n",
      " 9   regionidcity                  20028 non-null  float64\n",
      " 10  regionidzip                   20380 non-null  float64\n",
      " 11  structuretaxvaluedollarcnt    20361 non-null  float64\n",
      " 12  taxvaluedollarcnt             20394 non-null  float64\n",
      " 13  landtaxvaluedollarcnt         20394 non-null  float64\n",
      " 14  taxamount                     20393 non-null  float64\n",
      " 15  censustractandblock           20316 non-null  float64\n",
      " 16  logerror                      20394 non-null  float64\n",
      " 17  transactiondate               20394 non-null  object \n",
      "dtypes: float64(15), int64(2), object(1)\n",
      "memory usage: 3.0+ MB\n",
      "[main 45e91b9] updates\n",
      " 1 file changed, 69 insertions(+), 29 deletions(-)\n",
      "Enumerating objects: 5, done.\n",
      "Counting objects: 100% (5/5), done.\n",
      "Delta compression using up to 4 threads\n",
      "Compressing objects: 100% (3/3), done.\n",
      "Writing objects: 100% (3/3), 954 bytes | 954.00 KiB/s, done.\n",
      "Total 3 (delta 2), reused 0 (delta 0)\n",
      "remote: Resolving deltas: 100% (2/2), completed with 2 local objects.\u001b[K\n",
      "To github.com:Gabby-B-B/clustering-project.git\n",
      "   afa699b..45e91b9  main -> main\n"
     ]
    }
   ],
   "source": [
    "# ignore warnings\n",
    "import warnings\n",
    "warnings.filterwarnings(\"ignore\")\n",
    "\n",
    "# Wrangling\n",
    "import pandas as pd\n",
    "import numpy as np\n",
    "\n",
    "# Exploring\n",
    "import scipy.stats as stats\n",
    "\n",
    "# Visualizing\n",
    "%matplotlib inline\n",
    "import matplotlib.pyplot as plt\n",
    "import seaborn as sns\n",
    "\n",
    "# default pandas decimal number display format\n",
    "pd.options.display.float_format = '{:20,.2f}'.format\n",
    "# Setting the random seed for the train, test, split\n",
    "np.random.seed(42)\n",
    "import acquire\n",
    "import prepare"
   ]
  },
  {
   "cell_type": "markdown",
   "metadata": {},
   "source": [
    "<h1> Acquire </h1>"
   ]
  },
  {
   "cell_type": "code",
   "execution_count": 2,
   "metadata": {},
   "outputs": [],
   "source": [
    "# I am loading my acquired data into a data frame called acquired. This is my raw data before I prepared it.\n",
    "acquired= acquire.get_zillow_data()"
   ]
  },
  {
   "cell_type": "code",
   "execution_count": 3,
   "metadata": {},
   "outputs": [
    {
     "name": "stdout",
     "output_type": "stream",
     "text": [
      "<class 'pandas.core.frame.DataFrame'>\n",
      "RangeIndex: 20394 entries, 0 to 20393\n",
      "Data columns (total 79 columns):\n",
      " #   Column                        Non-Null Count  Dtype  \n",
      "---  ------                        --------------  -----  \n",
      " 0   Unnamed: 0                    20394 non-null  int64  \n",
      " 1   id                            20394 non-null  int64  \n",
      " 2   parcelid                      20394 non-null  int64  \n",
      " 3   airconditioningtypeid         6512 non-null   float64\n",
      " 4   architecturalstyletypeid      49 non-null     float64\n",
      " 5   basementsqft                  11 non-null     float64\n",
      " 6   bathroomcnt                   20394 non-null  float64\n",
      " 7   bedroomcnt                    20394 non-null  float64\n",
      " 8   buildingclasstypeid           0 non-null      float64\n",
      " 9   buildingqualitytypeid         12641 non-null  float64\n",
      " 10  calculatedbathnbr             20310 non-null  float64\n",
      " 11  decktypeid                    175 non-null    float64\n",
      " 12  finishedfloor1squarefeet      1673 non-null   float64\n",
      " 13  calculatedfinishedsquarefeet  20341 non-null  float64\n",
      " 14  finishedsquarefeet12          20282 non-null  float64\n",
      " 15  finishedsquarefeet13          12 non-null     float64\n",
      " 16  finishedsquarefeet15          3 non-null      float64\n",
      " 17  finishedsquarefeet50          1673 non-null   float64\n",
      " 18  finishedsquarefeet6           44 non-null     float64\n",
      " 19  fips                          20394 non-null  float64\n",
      " 20  fireplacecnt                  2378 non-null   float64\n",
      " 21  fullbathcnt                   20310 non-null  float64\n",
      " 22  garagecarcnt                  7222 non-null   float64\n",
      " 23  garagetotalsqft               7222 non-null   float64\n",
      " 24  hashottuborspa                480 non-null    float64\n",
      " 25  heatingorsystemtypeid         13096 non-null  float64\n",
      " 26  latitude                      20394 non-null  float64\n",
      " 27  longitude                     20394 non-null  float64\n",
      " 28  lotsizesquarefeet             18131 non-null  float64\n",
      " 29  poolcnt                       4553 non-null   float64\n",
      " 30  poolsizesum                   269 non-null    float64\n",
      " 31  pooltypeid10                  138 non-null    float64\n",
      " 32  pooltypeid2                   342 non-null    float64\n",
      " 33  pooltypeid7                   4209 non-null   float64\n",
      " 34  propertycountylandusecode     20394 non-null  object \n",
      " 35  propertylandusetypeid         20394 non-null  float64\n",
      " 36  propertyzoningdesc            12781 non-null  object \n",
      " 37  rawcensustractandblock        20394 non-null  float64\n",
      " 38  regionidcity                  20028 non-null  float64\n",
      " 39  regionidcounty                20394 non-null  float64\n",
      " 40  regionidneighborhood          8035 non-null   float64\n",
      " 41  regionidzip                   20380 non-null  float64\n",
      " 42  roomcnt                       20394 non-null  float64\n",
      " 43  storytypeid                   11 non-null     float64\n",
      " 44  threequarterbathnbr           2931 non-null   float64\n",
      " 45  typeconstructiontypeid        51 non-null     float64\n",
      " 46  unitcnt                       12752 non-null  float64\n",
      " 47  yardbuildingsqft17            692 non-null    float64\n",
      " 48  yardbuildingsqft26            23 non-null     float64\n",
      " 49  yearbuilt                     20325 non-null  float64\n",
      " 50  numberofstories               4894 non-null   float64\n",
      " 51  fireplaceflag                 43 non-null     float64\n",
      " 52  structuretaxvaluedollarcnt    20361 non-null  float64\n",
      " 53  taxvaluedollarcnt             20394 non-null  float64\n",
      " 54  assessmentyear                20394 non-null  float64\n",
      " 55  landtaxvaluedollarcnt         20394 non-null  float64\n",
      " 56  taxamount                     20393 non-null  float64\n",
      " 57  taxdelinquencyflag            666 non-null    object \n",
      " 58  taxdelinquencyyear            666 non-null    float64\n",
      " 59  censustractandblock           20316 non-null  float64\n",
      " 60  airconditioningtypeid.1       6512 non-null   float64\n",
      " 61  airconditioningdesc           6512 non-null   object \n",
      " 62  architecturalstyletypeid.1    49 non-null     float64\n",
      " 63  architecturalstyledesc        49 non-null     object \n",
      " 64  heatingorsystemtypeid.1       13096 non-null  float64\n",
      " 65  heatingorsystemdesc           13096 non-null  object \n",
      " 66  propertylandusetypeid.1       20394 non-null  int64  \n",
      " 67  propertylandusedesc           20394 non-null  object \n",
      " 68  id.1                          20394 non-null  int64  \n",
      " 69  parcelid.1                    20394 non-null  int64  \n",
      " 70  logerror                      20394 non-null  float64\n",
      " 71  transactiondate               20394 non-null  object \n",
      " 72  buildingclasstypeid.1         0 non-null      float64\n",
      " 73  buildingclassdesc             0 non-null      float64\n",
      " 74  storytypeid.1                 11 non-null     float64\n",
      " 75  storydesc                     11 non-null     object \n",
      " 76  typeconstructiontypeid.1      51 non-null     float64\n",
      " 77  typeconstructiondesc          51 non-null     object \n",
      " 78  parcelid.2                    20394 non-null  int64  \n",
      "dtypes: float64(62), int64(7), object(10)\n",
      "memory usage: 12.3+ MB\n"
     ]
    }
   ],
   "source": [
    "# Getting a concise summary of the dataframe.\n",
    "acquired.info()"
   ]
  },
  {
   "cell_type": "code",
   "execution_count": 4,
   "metadata": {},
   "outputs": [
    {
     "data": {
      "text/html": [
       "<div>\n",
       "<style scoped>\n",
       "    .dataframe tbody tr th:only-of-type {\n",
       "        vertical-align: middle;\n",
       "    }\n",
       "\n",
       "    .dataframe tbody tr th {\n",
       "        vertical-align: top;\n",
       "    }\n",
       "\n",
       "    .dataframe thead th {\n",
       "        text-align: right;\n",
       "    }\n",
       "</style>\n",
       "<table border=\"1\" class=\"dataframe\">\n",
       "  <thead>\n",
       "    <tr style=\"text-align: right;\">\n",
       "      <th></th>\n",
       "      <th>Unnamed: 0</th>\n",
       "      <th>id</th>\n",
       "      <th>parcelid</th>\n",
       "      <th>airconditioningtypeid</th>\n",
       "      <th>architecturalstyletypeid</th>\n",
       "      <th>basementsqft</th>\n",
       "      <th>bathroomcnt</th>\n",
       "      <th>bedroomcnt</th>\n",
       "      <th>buildingclasstypeid</th>\n",
       "      <th>buildingqualitytypeid</th>\n",
       "      <th>...</th>\n",
       "      <th>heatingorsystemtypeid.1</th>\n",
       "      <th>propertylandusetypeid.1</th>\n",
       "      <th>id.1</th>\n",
       "      <th>parcelid.1</th>\n",
       "      <th>logerror</th>\n",
       "      <th>buildingclasstypeid.1</th>\n",
       "      <th>buildingclassdesc</th>\n",
       "      <th>storytypeid.1</th>\n",
       "      <th>typeconstructiontypeid.1</th>\n",
       "      <th>parcelid.2</th>\n",
       "    </tr>\n",
       "  </thead>\n",
       "  <tbody>\n",
       "    <tr>\n",
       "      <th>count</th>\n",
       "      <td>20,394.00</td>\n",
       "      <td>20,394.00</td>\n",
       "      <td>20,394.00</td>\n",
       "      <td>6,512.00</td>\n",
       "      <td>49.00</td>\n",
       "      <td>11.00</td>\n",
       "      <td>20,394.00</td>\n",
       "      <td>20,394.00</td>\n",
       "      <td>0.00</td>\n",
       "      <td>12,641.00</td>\n",
       "      <td>...</td>\n",
       "      <td>13,096.00</td>\n",
       "      <td>20,394.00</td>\n",
       "      <td>20,394.00</td>\n",
       "      <td>20,394.00</td>\n",
       "      <td>20,394.00</td>\n",
       "      <td>0.00</td>\n",
       "      <td>0.00</td>\n",
       "      <td>11.00</td>\n",
       "      <td>51.00</td>\n",
       "      <td>20,394.00</td>\n",
       "    </tr>\n",
       "    <tr>\n",
       "      <th>mean</th>\n",
       "      <td>10,196.50</td>\n",
       "      <td>1,510,218.13</td>\n",
       "      <td>13,065,486.51</td>\n",
       "      <td>1.91</td>\n",
       "      <td>7.35</td>\n",
       "      <td>761.45</td>\n",
       "      <td>2.28</td>\n",
       "      <td>3.02</td>\n",
       "      <td>nan</td>\n",
       "      <td>6.61</td>\n",
       "      <td>...</td>\n",
       "      <td>3.92</td>\n",
       "      <td>262.31</td>\n",
       "      <td>42,488.76</td>\n",
       "      <td>13,065,486.51</td>\n",
       "      <td>0.01</td>\n",
       "      <td>nan</td>\n",
       "      <td>nan</td>\n",
       "      <td>7.00</td>\n",
       "      <td>6.04</td>\n",
       "      <td>13,065,486.51</td>\n",
       "    </tr>\n",
       "    <tr>\n",
       "      <th>std</th>\n",
       "      <td>5,887.39</td>\n",
       "      <td>859,845.71</td>\n",
       "      <td>3,502,608.27</td>\n",
       "      <td>3.13</td>\n",
       "      <td>3.11</td>\n",
       "      <td>444.82</td>\n",
       "      <td>0.96</td>\n",
       "      <td>1.03</td>\n",
       "      <td>nan</td>\n",
       "      <td>1.69</td>\n",
       "      <td>...</td>\n",
       "      <td>3.60</td>\n",
       "      <td>2.22</td>\n",
       "      <td>6,472.88</td>\n",
       "      <td>3,502,608.27</td>\n",
       "      <td>0.17</td>\n",
       "      <td>nan</td>\n",
       "      <td>nan</td>\n",
       "      <td>0.00</td>\n",
       "      <td>0.63</td>\n",
       "      <td>3,502,608.27</td>\n",
       "    </tr>\n",
       "    <tr>\n",
       "      <th>min</th>\n",
       "      <td>0.00</td>\n",
       "      <td>349.00</td>\n",
       "      <td>10,712,101.00</td>\n",
       "      <td>1.00</td>\n",
       "      <td>2.00</td>\n",
       "      <td>280.00</td>\n",
       "      <td>0.00</td>\n",
       "      <td>0.00</td>\n",
       "      <td>nan</td>\n",
       "      <td>1.00</td>\n",
       "      <td>...</td>\n",
       "      <td>1.00</td>\n",
       "      <td>260.00</td>\n",
       "      <td>1,248.00</td>\n",
       "      <td>10,712,101.00</td>\n",
       "      <td>-4.45</td>\n",
       "      <td>nan</td>\n",
       "      <td>nan</td>\n",
       "      <td>7.00</td>\n",
       "      <td>4.00</td>\n",
       "      <td>10,712,101.00</td>\n",
       "    </tr>\n",
       "    <tr>\n",
       "      <th>25%</th>\n",
       "      <td>5,098.25</td>\n",
       "      <td>774,455.75</td>\n",
       "      <td>11,539,960.25</td>\n",
       "      <td>1.00</td>\n",
       "      <td>7.00</td>\n",
       "      <td>497.00</td>\n",
       "      <td>2.00</td>\n",
       "      <td>2.00</td>\n",
       "      <td>nan</td>\n",
       "      <td>6.00</td>\n",
       "      <td>...</td>\n",
       "      <td>2.00</td>\n",
       "      <td>261.00</td>\n",
       "      <td>37,030.25</td>\n",
       "      <td>11,539,960.25</td>\n",
       "      <td>-0.03</td>\n",
       "      <td>nan</td>\n",
       "      <td>nan</td>\n",
       "      <td>7.00</td>\n",
       "      <td>6.00</td>\n",
       "      <td>11,539,960.25</td>\n",
       "    </tr>\n",
       "    <tr>\n",
       "      <th>50%</th>\n",
       "      <td>10,196.50</td>\n",
       "      <td>1,525,712.00</td>\n",
       "      <td>12,587,360.50</td>\n",
       "      <td>1.00</td>\n",
       "      <td>7.00</td>\n",
       "      <td>640.00</td>\n",
       "      <td>2.00</td>\n",
       "      <td>3.00</td>\n",
       "      <td>nan</td>\n",
       "      <td>7.00</td>\n",
       "      <td>...</td>\n",
       "      <td>2.00</td>\n",
       "      <td>261.00</td>\n",
       "      <td>42,539.50</td>\n",
       "      <td>12,587,360.50</td>\n",
       "      <td>0.00</td>\n",
       "      <td>nan</td>\n",
       "      <td>nan</td>\n",
       "      <td>7.00</td>\n",
       "      <td>6.00</td>\n",
       "      <td>12,587,360.50</td>\n",
       "    </tr>\n",
       "    <tr>\n",
       "      <th>75%</th>\n",
       "      <td>15,294.75</td>\n",
       "      <td>2,252,888.75</td>\n",
       "      <td>14,272,879.75</td>\n",
       "      <td>1.00</td>\n",
       "      <td>7.00</td>\n",
       "      <td>865.50</td>\n",
       "      <td>3.00</td>\n",
       "      <td>4.00</td>\n",
       "      <td>nan</td>\n",
       "      <td>8.00</td>\n",
       "      <td>...</td>\n",
       "      <td>7.00</td>\n",
       "      <td>266.00</td>\n",
       "      <td>48,032.75</td>\n",
       "      <td>14,272,879.75</td>\n",
       "      <td>0.04</td>\n",
       "      <td>nan</td>\n",
       "      <td>nan</td>\n",
       "      <td>7.00</td>\n",
       "      <td>6.00</td>\n",
       "      <td>14,272,879.75</td>\n",
       "    </tr>\n",
       "    <tr>\n",
       "      <th>max</th>\n",
       "      <td>20,393.00</td>\n",
       "      <td>2,982,274.00</td>\n",
       "      <td>167,687,839.00</td>\n",
       "      <td>13.00</td>\n",
       "      <td>21.00</td>\n",
       "      <td>1,809.00</td>\n",
       "      <td>11.00</td>\n",
       "      <td>12.00</td>\n",
       "      <td>nan</td>\n",
       "      <td>12.00</td>\n",
       "      <td>...</td>\n",
       "      <td>24.00</td>\n",
       "      <td>275.00</td>\n",
       "      <td>53,513.00</td>\n",
       "      <td>167,687,839.00</td>\n",
       "      <td>3.18</td>\n",
       "      <td>nan</td>\n",
       "      <td>nan</td>\n",
       "      <td>7.00</td>\n",
       "      <td>10.00</td>\n",
       "      <td>167,687,839.00</td>\n",
       "    </tr>\n",
       "  </tbody>\n",
       "</table>\n",
       "<p>8 rows × 69 columns</p>\n",
       "</div>"
      ],
      "text/plain": [
       "                Unnamed: 0                   id             parcelid  \\\n",
       "count            20,394.00            20,394.00            20,394.00   \n",
       "mean             10,196.50         1,510,218.13        13,065,486.51   \n",
       "std               5,887.39           859,845.71         3,502,608.27   \n",
       "min                   0.00               349.00        10,712,101.00   \n",
       "25%               5,098.25           774,455.75        11,539,960.25   \n",
       "50%              10,196.50         1,525,712.00        12,587,360.50   \n",
       "75%              15,294.75         2,252,888.75        14,272,879.75   \n",
       "max              20,393.00         2,982,274.00       167,687,839.00   \n",
       "\n",
       "       airconditioningtypeid  architecturalstyletypeid         basementsqft  \\\n",
       "count               6,512.00                     49.00                11.00   \n",
       "mean                    1.91                      7.35               761.45   \n",
       "std                     3.13                      3.11               444.82   \n",
       "min                     1.00                      2.00               280.00   \n",
       "25%                     1.00                      7.00               497.00   \n",
       "50%                     1.00                      7.00               640.00   \n",
       "75%                     1.00                      7.00               865.50   \n",
       "max                    13.00                     21.00             1,809.00   \n",
       "\n",
       "               bathroomcnt           bedroomcnt  buildingclasstypeid  \\\n",
       "count            20,394.00            20,394.00                 0.00   \n",
       "mean                  2.28                 3.02                  nan   \n",
       "std                   0.96                 1.03                  nan   \n",
       "min                   0.00                 0.00                  nan   \n",
       "25%                   2.00                 2.00                  nan   \n",
       "50%                   2.00                 3.00                  nan   \n",
       "75%                   3.00                 4.00                  nan   \n",
       "max                  11.00                12.00                  nan   \n",
       "\n",
       "       buildingqualitytypeid  ...  heatingorsystemtypeid.1  \\\n",
       "count              12,641.00  ...                13,096.00   \n",
       "mean                    6.61  ...                     3.92   \n",
       "std                     1.69  ...                     3.60   \n",
       "min                     1.00  ...                     1.00   \n",
       "25%                     6.00  ...                     2.00   \n",
       "50%                     7.00  ...                     2.00   \n",
       "75%                     8.00  ...                     7.00   \n",
       "max                    12.00  ...                    24.00   \n",
       "\n",
       "       propertylandusetypeid.1                 id.1           parcelid.1  \\\n",
       "count                20,394.00            20,394.00            20,394.00   \n",
       "mean                    262.31            42,488.76        13,065,486.51   \n",
       "std                       2.22             6,472.88         3,502,608.27   \n",
       "min                     260.00             1,248.00        10,712,101.00   \n",
       "25%                     261.00            37,030.25        11,539,960.25   \n",
       "50%                     261.00            42,539.50        12,587,360.50   \n",
       "75%                     266.00            48,032.75        14,272,879.75   \n",
       "max                     275.00            53,513.00       167,687,839.00   \n",
       "\n",
       "                  logerror  buildingclasstypeid.1    buildingclassdesc  \\\n",
       "count            20,394.00                   0.00                 0.00   \n",
       "mean                  0.01                    nan                  nan   \n",
       "std                   0.17                    nan                  nan   \n",
       "min                  -4.45                    nan                  nan   \n",
       "25%                  -0.03                    nan                  nan   \n",
       "50%                   0.00                    nan                  nan   \n",
       "75%                   0.04                    nan                  nan   \n",
       "max                   3.18                    nan                  nan   \n",
       "\n",
       "             storytypeid.1  typeconstructiontypeid.1           parcelid.2  \n",
       "count                11.00                     51.00            20,394.00  \n",
       "mean                  7.00                      6.04        13,065,486.51  \n",
       "std                   0.00                      0.63         3,502,608.27  \n",
       "min                   7.00                      4.00        10,712,101.00  \n",
       "25%                   7.00                      6.00        11,539,960.25  \n",
       "50%                   7.00                      6.00        12,587,360.50  \n",
       "75%                   7.00                      6.00        14,272,879.75  \n",
       "max                   7.00                     10.00       167,687,839.00  \n",
       "\n",
       "[8 rows x 69 columns]"
      ]
     },
     "execution_count": 4,
     "metadata": {},
     "output_type": "execute_result"
    }
   ],
   "source": [
    "# Viewing some basic statistical details such as percentile, mean, std etc. of the numerical values in a data frame\n",
    "acquired.describe()"
   ]
  },
  {
   "cell_type": "code",
   "execution_count": 5,
   "metadata": {},
   "outputs": [
    {
     "data": {
      "image/png": "[encoded data removed]",
      "text/plain": [
       "<Figure size 432x288 with 1 Axes>"
      ]
     },
     "metadata": {
      "needs_background": "light"
     },
     "output_type": "display_data"
    },
    {
     "data": {
      "image/png": "[encoded data removed]",
      "text/plain": [
       "<Figure size 432x288 with 1 Axes>"
      ]
     },
     "metadata": {
      "needs_background": "light"
     },
     "output_type": "display_data"
    },
    {
     "data": {
      "image/png": "[encoded data removed]",
      "text/plain": [
       "<Figure size 432x288 with 1 Axes>"
      ]
     },
     "metadata": {
      "needs_background": "light"
     },
     "output_type": "display_data"
    },
    {
     "data": {
      "image/png": "[encoded data removed]",
      "text/plain": [
       "<Figure size 432x288 with 1 Axes>"
      ]
     },
     "metadata": {
      "needs_background": "light"
     },
     "output_type": "display_data"
    },
    {
     "data": {
      "image/png": "[encoded data removed]",
      "text/plain": [
       "<Figure size 432x288 with 1 Axes>"
      ]
     },
     "metadata": {
      "needs_background": "light"
     },
     "output_type": "display_data"
    },
    {
     "data": {
      "image/png": "[encoded data removed]",
      "text/plain": [
       "<Figure size 432x288 with 1 Axes>"
      ]
     },
     "metadata": {
      "needs_background": "light"
     },
     "output_type": "display_data"
    },
    {
     "data": {
      "image/png": "[encoded data removed]",
      "text/plain": [
       "<Figure size 432x288 with 1 Axes>"
      ]
     },
     "metadata": {
      "needs_background": "light"
     },
     "output_type": "display_data"
    }
   ],
   "source": [
    "# Distribution of my numerical columns\n",
    "num_cols = acquired.columns[[acquired[col].dtype == 'int64' for col in acquired.columns]]\n",
    "for col in num_cols:\n",
    "    plt.hist(acquired[col])\n",
    "    plt.title(col)\n",
    "    plt.show()"
   ]
  },
  {
   "cell_type": "markdown",
   "metadata": {},
   "source": [
    "<h1> Prepare </h1>"
   ]
  },
  {
   "cell_type": "code",
   "execution_count": 6,
   "metadata": {},
   "outputs": [
    {
     "name": "stdout",
     "output_type": "stream",
     "text": [
      "<class 'pandas.core.frame.DataFrame'>\n",
      "Int64Index: 20394 entries, 0 to 20393\n",
      "Data columns (total 18 columns):\n",
      " #   Column                        Non-Null Count  Dtype  \n",
      "---  ------                        --------------  -----  \n",
      " 0   id                            20394 non-null  int64  \n",
      " 1   parcelid                      20394 non-null  int64  \n",
      " 2   bathroomcnt                   20394 non-null  float64\n",
      " 3   bedroomcnt                    20394 non-null  float64\n",
      " 4   calculatedfinishedsquarefeet  20341 non-null  float64\n",
      " 5   finishedsquarefeet12          20282 non-null  float64\n",
      " 6   fullbathcnt                   20310 non-null  float64\n",
      " 7   lotsizesquarefeet             18131 non-null  float64\n",
      " 8   rawcensustractandblock        20394 non-null  float64\n",
      " 9   regionidcity                  20028 non-null  float64\n",
      " 10  regionidzip                   20380 non-null  float64\n",
      " 11  structuretaxvaluedollarcnt    20361 non-null  float64\n",
      " 12  taxvaluedollarcnt             20394 non-null  float64\n",
      " 13  landtaxvaluedollarcnt         20394 non-null  float64\n",
      " 14  taxamount                     20393 non-null  float64\n",
      " 15  censustractandblock           20316 non-null  float64\n",
      " 16  logerror                      20394 non-null  float64\n",
      " 17  transactiondate               20394 non-null  object \n",
      "dtypes: float64(15), int64(2), object(1)\n",
      "memory usage: 3.0+ MB\n"
     ]
    }
   ],
   "source": [
    "# importing my cleaned data\n",
    "df= prepare.clean_zillow()\n",
    "# showing my clean data information. \n",
    "df.info()"
   ]
  },
  {
   "cell_type": "code",
   "execution_count": 7,
   "metadata": {},
   "outputs": [
    {
     "data": {
      "text/plain": [
       "0                   1,458.00\n",
       "1                   1,421.00\n",
       "2                   2,541.00\n",
       "3                   1,650.00\n",
       "4                     693.00\n",
       "                ...         \n",
       "20389               1,556.00\n",
       "20390               1,586.00\n",
       "20391               1,319.00\n",
       "20392               2,748.00\n",
       "20393               1,788.00\n",
       "Name: calculatedfinishedsquarefeet, Length: 20394, dtype: float64"
      ]
     },
     "execution_count": 7,
     "metadata": {},
     "output_type": "execute_result"
    }
   ],
   "source": [
    "df.calculatedfinishedsquarefeet"
   ]
  },
  {
   "cell_type": "code",
   "execution_count": 11,
   "metadata": {},
   "outputs": [
    {
     "name": "stdout",
     "output_type": "stream",
     "text": [
      "2017-06-30    1092\n",
      "2017-05-31     796\n",
      "2017-05-26     683\n",
      "2017-06-16     668\n",
      "2017-06-23     656\n",
      "              ... \n",
      "2017-06-24       3\n",
      "2017-05-13       2\n",
      "2017-05-06       2\n",
      "2017-06-03       1\n",
      "2017-05-20       1\n",
      "Name: transactiondate, Length: 63, dtype: int64\n",
      "2017-06-30                   0.05\n",
      "2017-05-31                   0.04\n",
      "2017-05-26                   0.03\n",
      "2017-06-16                   0.03\n",
      "2017-06-23                   0.03\n",
      "                     ...         \n",
      "2017-06-24                   0.00\n",
      "2017-05-13                   0.00\n",
      "2017-05-06                   0.00\n",
      "2017-06-03                   0.00\n",
      "2017-05-20                   0.00\n",
      "Name: transactiondate, Length: 63, dtype: float64\n"
     ]
    }
   ],
   "source": [
    "#Describing my object columns\n",
    "# describe object columns\n",
    "obj_cols = df.columns[[df[col].dtype == 'O' for col in df.columns]]\n",
    "for col in obj_cols:\n",
    "    print(df[col].value_counts())\n",
    "    print(df[col].value_counts(normalize=True, dropna=False))"
   ]
  },
  {
   "cell_type": "code",
   "execution_count": 19,
   "metadata": {},
   "outputs": [
    {
     "data": {
      "text/html": [
       "<div>\n",
       "<style scoped>\n",
       "    .dataframe tbody tr th:only-of-type {\n",
       "        vertical-align: middle;\n",
       "    }\n",
       "\n",
       "    .dataframe tbody tr th {\n",
       "        vertical-align: top;\n",
       "    }\n",
       "\n",
       "    .dataframe thead th {\n",
       "        text-align: right;\n",
       "    }\n",
       "</style>\n",
       "<table border=\"1\" class=\"dataframe\">\n",
       "  <thead>\n",
       "    <tr style=\"text-align: right;\">\n",
       "      <th></th>\n",
       "      <th>id</th>\n",
       "      <th>parcelid</th>\n",
       "      <th>bathroomcnt</th>\n",
       "      <th>bedroomcnt</th>\n",
       "      <th>calculatedfinishedsquarefeet</th>\n",
       "      <th>finishedsquarefeet12</th>\n",
       "      <th>fullbathcnt</th>\n",
       "      <th>lotsizesquarefeet</th>\n",
       "      <th>rawcensustractandblock</th>\n",
       "      <th>regionidcity</th>\n",
       "      <th>regionidzip</th>\n",
       "      <th>structuretaxvaluedollarcnt</th>\n",
       "      <th>taxvaluedollarcnt</th>\n",
       "      <th>landtaxvaluedollarcnt</th>\n",
       "      <th>taxamount</th>\n",
       "      <th>censustractandblock</th>\n",
       "      <th>logerror</th>\n",
       "      <th>transactiondate</th>\n",
       "    </tr>\n",
       "  </thead>\n",
       "  <tbody>\n",
       "    <tr>\n",
       "      <th>1821</th>\n",
       "      <td>1525291</td>\n",
       "      <td>11510523</td>\n",
       "      <td>2.00</td>\n",
       "      <td>2.00</td>\n",
       "      <td>958.00</td>\n",
       "      <td>958.00</td>\n",
       "      <td>2.00</td>\n",
       "      <td>8,559.00</td>\n",
       "      <td>60,376,210.02</td>\n",
       "      <td>29,712.00</td>\n",
       "      <td>96,109.00</td>\n",
       "      <td>175,443.00</td>\n",
       "      <td>846,612.00</td>\n",
       "      <td>671,169.00</td>\n",
       "      <td>9,075.03</td>\n",
       "      <td>60,376,210,021,027.00</td>\n",
       "      <td>0.05</td>\n",
       "      <td>2017-05-05</td>\n",
       "    </tr>\n",
       "    <tr>\n",
       "      <th>4207</th>\n",
       "      <td>2543163</td>\n",
       "      <td>12584951</td>\n",
       "      <td>3.00</td>\n",
       "      <td>3.00</td>\n",
       "      <td>1,560.00</td>\n",
       "      <td>1,560.00</td>\n",
       "      <td>3.00</td>\n",
       "      <td>36,537.00</td>\n",
       "      <td>60,375,438.02</td>\n",
       "      <td>10,723.00</td>\n",
       "      <td>96,229.00</td>\n",
       "      <td>163,524.00</td>\n",
       "      <td>270,459.00</td>\n",
       "      <td>106,935.00</td>\n",
       "      <td>3,477.27</td>\n",
       "      <td>60,375,438,024,015.00</td>\n",
       "      <td>-0.06</td>\n",
       "      <td>2017-05-15</td>\n",
       "    </tr>\n",
       "    <tr>\n",
       "      <th>2282</th>\n",
       "      <td>1757302</td>\n",
       "      <td>14263530</td>\n",
       "      <td>3.00</td>\n",
       "      <td>4.00</td>\n",
       "      <td>1,773.00</td>\n",
       "      <td>1,773.00</td>\n",
       "      <td>3.00</td>\n",
       "      <td>6,305.00</td>\n",
       "      <td>60,590,741.02</td>\n",
       "      <td>47,568.00</td>\n",
       "      <td>97,004.00</td>\n",
       "      <td>138,702.00</td>\n",
       "      <td>364,418.00</td>\n",
       "      <td>225,716.00</td>\n",
       "      <td>4,413.04</td>\n",
       "      <td>60,590,741,022,009.00</td>\n",
       "      <td>0.35</td>\n",
       "      <td>2017-05-08</td>\n",
       "    </tr>\n",
       "    <tr>\n",
       "      <th>10511</th>\n",
       "      <td>2015292</td>\n",
       "      <td>10861500</td>\n",
       "      <td>2.00</td>\n",
       "      <td>2.00</td>\n",
       "      <td>1,436.00</td>\n",
       "      <td>1,436.00</td>\n",
       "      <td>2.00</td>\n",
       "      <td>11,622.00</td>\n",
       "      <td>60,371,417.00</td>\n",
       "      <td>12,447.00</td>\n",
       "      <td>96,424.00</td>\n",
       "      <td>113,554.00</td>\n",
       "      <td>567,798.00</td>\n",
       "      <td>454,244.00</td>\n",
       "      <td>6,938.66</td>\n",
       "      <td>60,371,417,002,000.00</td>\n",
       "      <td>0.07</td>\n",
       "      <td>2017-06-02</td>\n",
       "    </tr>\n",
       "    <tr>\n",
       "      <th>3141</th>\n",
       "      <td>2606781</td>\n",
       "      <td>14316877</td>\n",
       "      <td>3.00</td>\n",
       "      <td>3.00</td>\n",
       "      <td>2,168.00</td>\n",
       "      <td>2,168.00</td>\n",
       "      <td>3.00</td>\n",
       "      <td>3,540.00</td>\n",
       "      <td>60,590,627.01</td>\n",
       "      <td>53,571.00</td>\n",
       "      <td>96,957.00</td>\n",
       "      <td>188,947.00</td>\n",
       "      <td>615,142.00</td>\n",
       "      <td>426,195.00</td>\n",
       "      <td>6,730.04</td>\n",
       "      <td>60,590,627,011,034.00</td>\n",
       "      <td>-0.21</td>\n",
       "      <td>2017-05-10</td>\n",
       "    </tr>\n",
       "  </tbody>\n",
       "</table>\n",
       "</div>"
      ],
      "text/plain": [
       "            id  parcelid          bathroomcnt           bedroomcnt  \\\n",
       "1821   1525291  11510523                 2.00                 2.00   \n",
       "4207   2543163  12584951                 3.00                 3.00   \n",
       "2282   1757302  14263530                 3.00                 4.00   \n",
       "10511  2015292  10861500                 2.00                 2.00   \n",
       "3141   2606781  14316877                 3.00                 3.00   \n",
       "\n",
       "       calculatedfinishedsquarefeet  finishedsquarefeet12  \\\n",
       "1821                         958.00                958.00   \n",
       "4207                       1,560.00              1,560.00   \n",
       "2282                       1,773.00              1,773.00   \n",
       "10511                      1,436.00              1,436.00   \n",
       "3141                       2,168.00              2,168.00   \n",
       "\n",
       "               fullbathcnt    lotsizesquarefeet  rawcensustractandblock  \\\n",
       "1821                  2.00             8,559.00           60,376,210.02   \n",
       "4207                  3.00            36,537.00           60,375,438.02   \n",
       "2282                  3.00             6,305.00           60,590,741.02   \n",
       "10511                 2.00            11,622.00           60,371,417.00   \n",
       "3141                  3.00             3,540.00           60,590,627.01   \n",
       "\n",
       "              regionidcity          regionidzip  structuretaxvaluedollarcnt  \\\n",
       "1821             29,712.00            96,109.00                  175,443.00   \n",
       "4207             10,723.00            96,229.00                  163,524.00   \n",
       "2282             47,568.00            97,004.00                  138,702.00   \n",
       "10511            12,447.00            96,424.00                  113,554.00   \n",
       "3141             53,571.00            96,957.00                  188,947.00   \n",
       "\n",
       "         taxvaluedollarcnt  landtaxvaluedollarcnt            taxamount  \\\n",
       "1821            846,612.00             671,169.00             9,075.03   \n",
       "4207            270,459.00             106,935.00             3,477.27   \n",
       "2282            364,418.00             225,716.00             4,413.04   \n",
       "10511           567,798.00             454,244.00             6,938.66   \n",
       "3141            615,142.00             426,195.00             6,730.04   \n",
       "\n",
       "        censustractandblock             logerror transactiondate  \n",
       "1821  60,376,210,021,027.00                 0.05      2017-05-05  \n",
       "4207  60,375,438,024,015.00                -0.06      2017-05-15  \n",
       "2282  60,590,741,022,009.00                 0.35      2017-05-08  \n",
       "10511 60,371,417,002,000.00                 0.07      2017-06-02  \n",
       "3141  60,590,627,011,034.00                -0.21      2017-05-10  "
      ]
     },
     "execution_count": 19,
     "metadata": {},
     "output_type": "execute_result"
    }
   ],
   "source": [
    "#import test, train, validate from prepare\n",
    "train, validate, test = prepare.prep_zillow_data()\n",
    "train.head()"
   ]
  },
  {
   "cell_type": "markdown",
   "metadata": {},
   "source": [
    "<h1>Exploration</h1>"
   ]
  },
  {
   "cell_type": "code",
   "execution_count": 17,
   "metadata": {},
   "outputs": [
    {
     "data": {
      "image/png": "[encoded data removed]",
      "text/plain": [
       "<Figure size 288x144 with 1 Axes>"
      ]
     },
     "metadata": {
      "needs_background": "light"
     },
     "output_type": "display_data"
    },
    {
     "data": {
      "image/png": "[encoded data removed]",
      "text/plain": [
       "<Figure size 288x144 with 1 Axes>"
      ]
     },
     "metadata": {
      "needs_background": "light"
     },
     "output_type": "display_data"
    },
    {
     "data": {
      "image/png": "[encoded data removed]",
      "text/plain": [
       "<Figure size 288x144 with 1 Axes>"
      ]
     },
     "metadata": {
      "needs_background": "light"
     },
     "output_type": "display_data"
    },
    {
     "data": {
      "image/png": "[encoded data removed]",
      "text/plain": [
       "<Figure size 288x144 with 1 Axes>"
      ]
     },
     "metadata": {
      "needs_background": "light"
     },
     "output_type": "display_data"
    },
    {
     "data": {
      "image/png": "[encoded data removed]",
      "text/plain": [
       "<Figure size 288x144 with 1 Axes>"
      ]
     },
     "metadata": {
      "needs_background": "light"
     },
     "output_type": "display_data"
    },
    {
     "data": {
      "image/png": "[encoded data removed]",
      "text/plain": [
       "<Figure size 288x144 with 1 Axes>"
      ]
     },
     "metadata": {
      "needs_background": "light"
     },
     "output_type": "display_data"
    },
    {
     "data": {
      "image/png": "[encoded data removed]",
      "text/plain": [
       "<Figure size 288x144 with 1 Axes>"
      ]
     },
     "metadata": {
      "needs_background": "light"
     },
     "output_type": "display_data"
    },
    {
     "data": {
      "image/png": "[encoded data removed]",
      "text/plain": [
       "<Figure size 288x144 with 1 Axes>"
      ]
     },
     "metadata": {
      "needs_background": "light"
     },
     "output_type": "display_data"
    },
    {
     "data": {
      "image/png": "[encoded data removed]",
      "text/plain": [
       "<Figure size 288x144 with 1 Axes>"
      ]
     },
     "metadata": {
      "needs_background": "light"
     },
     "output_type": "display_data"
    },
    {
     "data": {
      "image/png": "[encoded data removed]",
      "text/plain": [
       "<Figure size 288x144 with 1 Axes>"
      ]
     },
     "metadata": {
      "needs_background": "light"
     },
     "output_type": "display_data"
    },
    {
     "data": {
      "image/png": "[encoded data removed]",
      "text/plain": [
       "<Figure size 288x144 with 1 Axes>"
      ]
     },
     "metadata": {
      "needs_background": "light"
     },
     "output_type": "display_data"
    },
    {
     "data": {
      "image/png": "[encoded data removed]",
      "text/plain": [
       "<Figure size 288x144 with 1 Axes>"
      ]
     },
     "metadata": {
      "needs_background": "light"
     },
     "output_type": "display_data"
    },
    {
     "data": {
      "image/png": "[encoded data removed]",
      "text/plain": [
       "<Figure size 288x144 with 1 Axes>"
      ]
     },
     "metadata": {
      "needs_background": "light"
     },
     "output_type": "display_data"
    },
    {
     "data": {
      "image/png": "[encoded data removed]",
      "text/plain": [
       "<Figure size 288x144 with 1 Axes>"
      ]
     },
     "metadata": {
      "needs_background": "light"
     },
     "output_type": "display_data"
    },
    {
     "data": {
      "image/png": "[encoded data removed]",
      "text/plain": [
       "<Figure size 288x144 with 1 Axes>"
      ]
     },
     "metadata": {
      "needs_background": "light"
     },
     "output_type": "display_data"
    },
    {
     "data": {
      "image/png": "[encoded data removed]",
      "text/plain": [
       "<Figure size 288x144 with 1 Axes>"
      ]
     },
     "metadata": {
      "needs_background": "light"
     },
     "output_type": "display_data"
    },
    {
     "data": {
      "image/png": "[encoded data removed]",
      "text/plain": [
       "<Figure size 288x144 with 1 Axes>"
      ]
     },
     "metadata": {
      "needs_background": "light"
     },
     "output_type": "display_data"
    },
    {
     "data": {
      "image/png": "[encoded data removed]",
      "text/plain": [
       "<Figure size 288x144 with 1 Axes>"
      ]
     },
     "metadata": {
      "needs_background": "light"
     },
     "output_type": "display_data"
    }
   ],
   "source": [
    "for col in train.columns:\n",
    "    plt.figure(figsize=(4,2))\n",
    "    plt.hist(train[col])\n",
    "    plt.title(col)\n",
    "    plt.show()"
   ]
  },
  {
   "cell_type": "code",
   "execution_count": null,
   "metadata": {},
   "outputs": [],
   "source": [
    "sns.boxplot(train.parcelid, train.logerror)\n",
    "plt.title(\"Is there a difference in log error between parcel id?\")\n",
    "plt.show()"
   ]
  },
  {
   "cell_type": "code",
   "execution_count": 29,
   "metadata": {},
   "outputs": [
    {
     "data": {
      "image/png": "[encoded data removed]",
      "text/plain": [
       "<Figure size 432x288 with 1 Axes>"
      ]
     },
     "metadata": {
      "needs_background": "light"
     },
     "output_type": "display_data"
    }
   ],
   "source": [
    "# plot sqare footage by log error\n",
    "plt.scatter(train.logerror, train.taxvaluedollarcnt)\n",
    "plt.ylabel(\"Tax Estimated Value\")\n",
    "plt.xlabel(\"log error\")\n",
    "plt.title(\"Is there a relationship\\nbetween log error and tax estimated value?\")\n",
    "plt.show()"
   ]
  },
  {
   "cell_type": "code",
   "execution_count": 30,
   "metadata": {},
   "outputs": [
    {
     "data": {
      "image/png": "[encoded data removed]",
      "text/plain": [
       "<Figure size 432x288 with 1 Axes>"
      ]
     },
     "metadata": {
      "needs_background": "light"
     },
     "output_type": "display_data"
    }
   ],
   "source": [
    "# plot sqare footage by log error\n",
    "plt.scatter(train.logerror, train.calculatedfinishedsquarefeet)\n",
    "plt.ylabel(\"square footage\")\n",
    "plt.xlabel(\"log error\")\n",
    "plt.title(\"Is there a relationship\\nbetween log error and square footage?\")\n",
    "plt.show()"
   ]
  },
  {
   "cell_type": "markdown",
   "metadata": {},
   "source": [
    "<h1>Modeling </h1>"
   ]
  },
  {
   "cell_type": "code",
   "execution_count": null,
   "metadata": {},
   "outputs": [],
   "source": []
  },
  {
   "cell_type": "markdown",
   "metadata": {},
   "source": [
    "<h1> Conclusion </h1>"
   ]
  },
  {
   "cell_type": "code",
   "execution_count": null,
   "metadata": {},
   "outputs": [],
   "source": []
  },
  {
   "cell_type": "code",
   "execution_count": null,
   "metadata": {},
   "outputs": [],
   "source": [
    "!git add walkthrou"
   ]
  }
 ],
 "metadata": {
  "kernelspec": {
   "display_name": "Python 3",
   "language": "python",
   "name": "python3"
  },
  "language_info": {
   "codemirror_mode": {
    "name": "ipython",
    "version": 3
   },
   "file_extension": ".py",
   "mimetype": "text/x-python",
   "name": "python",
   "nbconvert_exporter": "python",
   "pygments_lexer": "ipython3",
   "version": "3.7.6"
  }
 },
 "nbformat": 4,
 "nbformat_minor": 4
}
